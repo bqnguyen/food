{
  "nbformat": 4,
  "nbformat_minor": 0,
  "metadata": {
    "colab": {
      "name": "world-food-facts-features.ipynb",
      "version": "0.3.2",
      "provenance": [],
      "include_colab_link": true
    },
    "kernelspec": {
      "name": "python3",
      "display_name": "Python 3"
    }
  },
  "cells": [
    {
      "cell_type": "markdown",
      "metadata": {
        "id": "view-in-github",
        "colab_type": "text"
      },
      "source": [
        "<a href=\"https://colab.research.google.com/github/noahgift/food/blob/master/world_food_facts_features.ipynb\" target=\"_parent\"><img src=\"https://colab.research.google.com/assets/colab-badge.svg\" alt=\"Open In Colab\"/></a>"
      ]
    },
    {
      "metadata": {
        "id": "wwHjj7Br-sUk",
        "colab_type": "text"
      },
      "cell_type": "markdown",
      "source": [
        "# World Food Facts"
      ]
    },
    {
      "metadata": {
        "id": "oFvLgo3UNXxO",
        "colab_type": "text"
      },
      "cell_type": "markdown",
      "source": [
        ""
      ]
    },
    {
      "metadata": {
        "id": "yY9gKLFD-03J",
        "colab_type": "text"
      },
      "cell_type": "markdown",
      "source": [
        "* Original Data Source:  https://www.kaggle.com/openfoodfacts/world-food-facts\n",
        "* Modified Source:  https://www.kaggle.com/lwodarzek/nutrition-table-clustering/output"
      ]
    },
    {
      "metadata": {
        "id": "Y8a6auMZTzoa",
        "colab_type": "text"
      },
      "cell_type": "markdown",
      "source": [
        "### Ingest"
      ]
    },
    {
      "metadata": {
        "id": "co7HfeLmvvZV",
        "colab_type": "code",
        "colab": {}
      },
      "cell_type": "code",
      "source": [
        "import pandas as pd"
      ],
      "execution_count": 0,
      "outputs": []
    },
    {
      "metadata": {
        "id": "77Ih-vxcv-BR",
        "colab_type": "code",
        "outputId": "af6f0d48-dc27-43a3-d434-9239f4b31993",
        "colab": {
          "base_uri": "https://localhost:8080/",
          "height": 198
        }
      },
      "cell_type": "code",
      "source": [
        "df = pd.read_csv(\n",
        "    \"https://raw.githubusercontent.com/noahgift/food/master/data/features.en.openfoodfacts.org.products.csv\")\n",
        "df.drop([\"Unnamed: 0\", \"exceeded\", \"g_sum\", \"energy_100g\"], axis=1, inplace=True) #drop two rows we don't need\n",
        "df = df.drop(df.index[[1,11877]]) #drop outlier\n",
        "df.rename(index=str, columns={\"reconstructed_energy\": \"energy_100g\"}, inplace=True)\n",
        "df.head()"
      ],
      "execution_count": 69,
      "outputs": [
        {
          "output_type": "execute_result",
          "data": {
            "text/html": [
              "<div>\n",
              "<style scoped>\n",
              "    .dataframe tbody tr th:only-of-type {\n",
              "        vertical-align: middle;\n",
              "    }\n",
              "\n",
              "    .dataframe tbody tr th {\n",
              "        vertical-align: top;\n",
              "    }\n",
              "\n",
              "    .dataframe thead th {\n",
              "        text-align: right;\n",
              "    }\n",
              "</style>\n",
              "<table border=\"1\" class=\"dataframe\">\n",
              "  <thead>\n",
              "    <tr style=\"text-align: right;\">\n",
              "      <th></th>\n",
              "      <th>fat_100g</th>\n",
              "      <th>carbohydrates_100g</th>\n",
              "      <th>sugars_100g</th>\n",
              "      <th>proteins_100g</th>\n",
              "      <th>salt_100g</th>\n",
              "      <th>energy_100g</th>\n",
              "      <th>product</th>\n",
              "    </tr>\n",
              "  </thead>\n",
              "  <tbody>\n",
              "    <tr>\n",
              "      <th>0</th>\n",
              "      <td>28.57</td>\n",
              "      <td>64.29</td>\n",
              "      <td>14.29</td>\n",
              "      <td>3.57</td>\n",
              "      <td>0.00000</td>\n",
              "      <td>2267.85</td>\n",
              "      <td>Banana Chips Sweetened (Whole)</td>\n",
              "    </tr>\n",
              "    <tr>\n",
              "      <th>2</th>\n",
              "      <td>57.14</td>\n",
              "      <td>17.86</td>\n",
              "      <td>3.57</td>\n",
              "      <td>17.86</td>\n",
              "      <td>1.22428</td>\n",
              "      <td>2835.70</td>\n",
              "      <td>Organic Salted Nut Mix</td>\n",
              "    </tr>\n",
              "    <tr>\n",
              "      <th>3</th>\n",
              "      <td>18.75</td>\n",
              "      <td>57.81</td>\n",
              "      <td>15.62</td>\n",
              "      <td>14.06</td>\n",
              "      <td>0.13970</td>\n",
              "      <td>1953.04</td>\n",
              "      <td>Organic Muesli</td>\n",
              "    </tr>\n",
              "    <tr>\n",
              "      <th>4</th>\n",
              "      <td>36.67</td>\n",
              "      <td>36.67</td>\n",
              "      <td>3.33</td>\n",
              "      <td>16.67</td>\n",
              "      <td>1.60782</td>\n",
              "      <td>2336.91</td>\n",
              "      <td>Zen Party Mix</td>\n",
              "    </tr>\n",
              "    <tr>\n",
              "      <th>5</th>\n",
              "      <td>18.18</td>\n",
              "      <td>60.00</td>\n",
              "      <td>21.82</td>\n",
              "      <td>14.55</td>\n",
              "      <td>0.02286</td>\n",
              "      <td>1976.37</td>\n",
              "      <td>Cinnamon Nut Granola</td>\n",
              "    </tr>\n",
              "  </tbody>\n",
              "</table>\n",
              "</div>"
            ],
            "text/plain": [
              "   fat_100g  carbohydrates_100g  sugars_100g  proteins_100g  salt_100g  \\\n",
              "0     28.57               64.29        14.29           3.57    0.00000   \n",
              "2     57.14               17.86         3.57          17.86    1.22428   \n",
              "3     18.75               57.81        15.62          14.06    0.13970   \n",
              "4     36.67               36.67         3.33          16.67    1.60782   \n",
              "5     18.18               60.00        21.82          14.55    0.02286   \n",
              "\n",
              "   energy_100g                         product  \n",
              "0      2267.85  Banana Chips Sweetened (Whole)  \n",
              "2      2835.70          Organic Salted Nut Mix  \n",
              "3      1953.04                  Organic Muesli  \n",
              "4      2336.91                   Zen Party Mix  \n",
              "5      1976.37            Cinnamon Nut Granola  "
            ]
          },
          "metadata": {
            "tags": []
          },
          "execution_count": 69
        }
      ]
    },
    {
      "metadata": {
        "id": "P_AMOqmFY7nm",
        "colab_type": "text"
      },
      "cell_type": "markdown",
      "source": [
        "### EDA"
      ]
    },
    {
      "metadata": {
        "id": "Bga4PDs8PJ63",
        "colab_type": "code",
        "colab": {
          "base_uri": "https://localhost:8080/",
          "height": 69
        },
        "outputId": "4bebca5e-a454-4741-ada6-5d33265e19f7"
      },
      "cell_type": "code",
      "source": [
        "df.columns"
      ],
      "execution_count": 70,
      "outputs": [
        {
          "output_type": "execute_result",
          "data": {
            "text/plain": [
              "Index(['fat_100g', 'carbohydrates_100g', 'sugars_100g', 'proteins_100g',\n",
              "       'salt_100g', 'energy_100g', 'product'],\n",
              "      dtype='object')"
            ]
          },
          "metadata": {
            "tags": []
          },
          "execution_count": 70
        }
      ]
    },
    {
      "metadata": {
        "id": "s-HFn_Tt_Coi",
        "colab_type": "text"
      },
      "cell_type": "markdown",
      "source": [
        "Rows and Attributes"
      ]
    },
    {
      "metadata": {
        "id": "pCpP5sT0wK4u",
        "colab_type": "code",
        "outputId": "7d95ab06-faa7-4b67-bf66-185a187a2b62",
        "colab": {
          "base_uri": "https://localhost:8080/",
          "height": 35
        }
      },
      "cell_type": "code",
      "source": [
        "df.shape"
      ],
      "execution_count": 71,
      "outputs": [
        {
          "output_type": "execute_result",
          "data": {
            "text/plain": [
              "(45026, 7)"
            ]
          },
          "metadata": {
            "tags": []
          },
          "execution_count": 71
        }
      ]
    },
    {
      "metadata": {
        "id": "_oihs9zA_Gk7",
        "colab_type": "text"
      },
      "cell_type": "markdown",
      "source": [
        "First 10 Columns"
      ]
    },
    {
      "metadata": {
        "id": "1RzOcBqHJBXG",
        "colab_type": "text"
      },
      "cell_type": "markdown",
      "source": [
        "## Sorting"
      ]
    },
    {
      "metadata": {
        "id": "iQawn9MQJIph",
        "colab_type": "text"
      },
      "cell_type": "markdown",
      "source": [
        "### Sort by One Column:  Protein"
      ]
    },
    {
      "metadata": {
        "id": "wvmwiE7N5b2J",
        "colab_type": "code",
        "outputId": "aecf5d5a-d811-4c2c-8195-4fa6d5b46463",
        "colab": {
          "base_uri": "https://localhost:8080/",
          "height": 348
        }
      },
      "cell_type": "code",
      "source": [
        "df.sort_values(by=[\"proteins_100g\"], ascending=False).head(10)"
      ],
      "execution_count": 73,
      "outputs": [
        {
          "output_type": "execute_result",
          "data": {
            "text/html": [
              "<div>\n",
              "<style scoped>\n",
              "    .dataframe tbody tr th:only-of-type {\n",
              "        vertical-align: middle;\n",
              "    }\n",
              "\n",
              "    .dataframe tbody tr th {\n",
              "        vertical-align: top;\n",
              "    }\n",
              "\n",
              "    .dataframe thead th {\n",
              "        text-align: right;\n",
              "    }\n",
              "</style>\n",
              "<table border=\"1\" class=\"dataframe\">\n",
              "  <thead>\n",
              "    <tr style=\"text-align: right;\">\n",
              "      <th></th>\n",
              "      <th>fat_100g</th>\n",
              "      <th>carbohydrates_100g</th>\n",
              "      <th>sugars_100g</th>\n",
              "      <th>proteins_100g</th>\n",
              "      <th>salt_100g</th>\n",
              "      <th>energy_100g</th>\n",
              "      <th>product</th>\n",
              "    </tr>\n",
              "  </thead>\n",
              "  <tbody>\n",
              "    <tr>\n",
              "      <th>2377</th>\n",
              "      <td>0.00</td>\n",
              "      <td>0.00</td>\n",
              "      <td>0.00</td>\n",
              "      <td>100.00</td>\n",
              "      <td>0.00000</td>\n",
              "      <td>1700.00</td>\n",
              "      <td>Unflavored Gelatin</td>\n",
              "    </tr>\n",
              "    <tr>\n",
              "      <th>37027</th>\n",
              "      <td>0.00</td>\n",
              "      <td>0.00</td>\n",
              "      <td>0.00</td>\n",
              "      <td>100.00</td>\n",
              "      <td>0.36322</td>\n",
              "      <td>1700.00</td>\n",
              "      <td>Unflavored Gelatin</td>\n",
              "    </tr>\n",
              "    <tr>\n",
              "      <th>16674</th>\n",
              "      <td>6.82</td>\n",
              "      <td>22.73</td>\n",
              "      <td>13.64</td>\n",
              "      <td>86.36</td>\n",
              "      <td>14.77772</td>\n",
              "      <td>2120.51</td>\n",
              "      <td>Fisherman's Wharf, Cocktail Shrimp</td>\n",
              "    </tr>\n",
              "    <tr>\n",
              "      <th>37415</th>\n",
              "      <td>3.33</td>\n",
              "      <td>6.67</td>\n",
              "      <td>3.33</td>\n",
              "      <td>83.33</td>\n",
              "      <td>0.67818</td>\n",
              "      <td>1659.87</td>\n",
              "      <td>Whey &amp; Soy Protein, Flavored Drink Mix, Vanilla</td>\n",
              "    </tr>\n",
              "    <tr>\n",
              "      <th>133</th>\n",
              "      <td>4.60</td>\n",
              "      <td>8.80</td>\n",
              "      <td>6.00</td>\n",
              "      <td>78.05</td>\n",
              "      <td>1.21158</td>\n",
              "      <td>1655.85</td>\n",
              "      <td>Whey Protein aus Molke 500 Gramm Vanilla</td>\n",
              "    </tr>\n",
              "    <tr>\n",
              "      <th>131</th>\n",
              "      <td>4.60</td>\n",
              "      <td>8.80</td>\n",
              "      <td>6.00</td>\n",
              "      <td>78.05</td>\n",
              "      <td>1.21158</td>\n",
              "      <td>1655.85</td>\n",
              "      <td>Whey Protein aus Molke 1000 Gramm Vanilla</td>\n",
              "    </tr>\n",
              "    <tr>\n",
              "      <th>129</th>\n",
              "      <td>4.60</td>\n",
              "      <td>8.80</td>\n",
              "      <td>6.00</td>\n",
              "      <td>78.05</td>\n",
              "      <td>1.21158</td>\n",
              "      <td>1655.85</td>\n",
              "      <td>Whey Protein aus Molke Vanilla</td>\n",
              "    </tr>\n",
              "    <tr>\n",
              "      <th>33115</th>\n",
              "      <td>1.67</td>\n",
              "      <td>13.33</td>\n",
              "      <td>0.00</td>\n",
              "      <td>76.67</td>\n",
              "      <td>0.00000</td>\n",
              "      <td>1595.13</td>\n",
              "      <td>Vital Wheat</td>\n",
              "    </tr>\n",
              "    <tr>\n",
              "      <th>37392</th>\n",
              "      <td>6.25</td>\n",
              "      <td>8.33</td>\n",
              "      <td>4.17</td>\n",
              "      <td>75.00</td>\n",
              "      <td>0.63500</td>\n",
              "      <td>1660.36</td>\n",
              "      <td>Whey Protein Powder, Chocolate</td>\n",
              "    </tr>\n",
              "    <tr>\n",
              "      <th>16669</th>\n",
              "      <td>5.36</td>\n",
              "      <td>21.43</td>\n",
              "      <td>14.29</td>\n",
              "      <td>67.86</td>\n",
              "      <td>12.79144</td>\n",
              "      <td>1726.97</td>\n",
              "      <td>Fisherman's Wharf, Cocktail Shrimp</td>\n",
              "    </tr>\n",
              "  </tbody>\n",
              "</table>\n",
              "</div>"
            ],
            "text/plain": [
              "       fat_100g  carbohydrates_100g  sugars_100g  proteins_100g  salt_100g  \\\n",
              "2377       0.00                0.00         0.00         100.00    0.00000   \n",
              "37027      0.00                0.00         0.00         100.00    0.36322   \n",
              "16674      6.82               22.73        13.64          86.36   14.77772   \n",
              "37415      3.33                6.67         3.33          83.33    0.67818   \n",
              "133        4.60                8.80         6.00          78.05    1.21158   \n",
              "131        4.60                8.80         6.00          78.05    1.21158   \n",
              "129        4.60                8.80         6.00          78.05    1.21158   \n",
              "33115      1.67               13.33         0.00          76.67    0.00000   \n",
              "37392      6.25                8.33         4.17          75.00    0.63500   \n",
              "16669      5.36               21.43        14.29          67.86   12.79144   \n",
              "\n",
              "       energy_100g                                          product  \n",
              "2377       1700.00                               Unflavored Gelatin  \n",
              "37027      1700.00                               Unflavored Gelatin  \n",
              "16674      2120.51               Fisherman's Wharf, Cocktail Shrimp  \n",
              "37415      1659.87  Whey & Soy Protein, Flavored Drink Mix, Vanilla  \n",
              "133        1655.85         Whey Protein aus Molke 500 Gramm Vanilla  \n",
              "131        1655.85        Whey Protein aus Molke 1000 Gramm Vanilla  \n",
              "129        1655.85                   Whey Protein aus Molke Vanilla  \n",
              "33115      1595.13                                      Vital Wheat  \n",
              "37392      1660.36                   Whey Protein Powder, Chocolate  \n",
              "16669      1726.97               Fisherman's Wharf, Cocktail Shrimp  "
            ]
          },
          "metadata": {
            "tags": []
          },
          "execution_count": 73
        }
      ]
    },
    {
      "metadata": {
        "id": "bq_K-nnPWQcA",
        "colab_type": "text"
      },
      "cell_type": "markdown",
      "source": [
        "### Sort by Two Columns:  Sugar, Salt"
      ]
    },
    {
      "metadata": {
        "id": "iI2ogrIvKYIm",
        "colab_type": "code",
        "colab": {
          "base_uri": "https://localhost:8080/",
          "height": 348
        },
        "outputId": "a7cbba4a-507a-483c-fafa-aaef5280a72d"
      },
      "cell_type": "code",
      "source": [
        "df.sort_values(by=[\"sugars_100g\", \"salt_100g\"], ascending=[False, False]).head(10)"
      ],
      "execution_count": 82,
      "outputs": [
        {
          "output_type": "execute_result",
          "data": {
            "text/html": [
              "<div>\n",
              "<style scoped>\n",
              "    .dataframe tbody tr th:only-of-type {\n",
              "        vertical-align: middle;\n",
              "    }\n",
              "\n",
              "    .dataframe tbody tr th {\n",
              "        vertical-align: top;\n",
              "    }\n",
              "\n",
              "    .dataframe thead th {\n",
              "        text-align: right;\n",
              "    }\n",
              "</style>\n",
              "<table border=\"1\" class=\"dataframe\">\n",
              "  <thead>\n",
              "    <tr style=\"text-align: right;\">\n",
              "      <th></th>\n",
              "      <th>fat_100g</th>\n",
              "      <th>carbohydrates_100g</th>\n",
              "      <th>sugars_100g</th>\n",
              "      <th>proteins_100g</th>\n",
              "      <th>salt_100g</th>\n",
              "      <th>energy_100g</th>\n",
              "      <th>product</th>\n",
              "    </tr>\n",
              "  </thead>\n",
              "  <tbody>\n",
              "    <tr>\n",
              "      <th>33151</th>\n",
              "      <td>0.0</td>\n",
              "      <td>0.0</td>\n",
              "      <td>100.0</td>\n",
              "      <td>0.0</td>\n",
              "      <td>71.1200</td>\n",
              "      <td>0.0</td>\n",
              "      <td>Turkey Brine Kit, Garlic &amp; Herb</td>\n",
              "    </tr>\n",
              "    <tr>\n",
              "      <th>24783</th>\n",
              "      <td>0.0</td>\n",
              "      <td>100.0</td>\n",
              "      <td>100.0</td>\n",
              "      <td>0.0</td>\n",
              "      <td>24.1300</td>\n",
              "      <td>1700.0</td>\n",
              "      <td>Seasoning</td>\n",
              "    </tr>\n",
              "    <tr>\n",
              "      <th>4073</th>\n",
              "      <td>0.0</td>\n",
              "      <td>100.0</td>\n",
              "      <td>100.0</td>\n",
              "      <td>0.0</td>\n",
              "      <td>7.6200</td>\n",
              "      <td>1700.0</td>\n",
              "      <td>Seasoning Rub, Sweet &amp; Spicy Seafood</td>\n",
              "    </tr>\n",
              "    <tr>\n",
              "      <th>10282</th>\n",
              "      <td>0.0</td>\n",
              "      <td>100.0</td>\n",
              "      <td>100.0</td>\n",
              "      <td>0.0</td>\n",
              "      <td>2.5400</td>\n",
              "      <td>1700.0</td>\n",
              "      <td>Instant Pectin</td>\n",
              "    </tr>\n",
              "    <tr>\n",
              "      <th>17880</th>\n",
              "      <td>0.0</td>\n",
              "      <td>100.0</td>\n",
              "      <td>100.0</td>\n",
              "      <td>0.0</td>\n",
              "      <td>0.6350</td>\n",
              "      <td>1700.0</td>\n",
              "      <td>Cranberry Cosmos Cocktail Rimming Sugar</td>\n",
              "    </tr>\n",
              "    <tr>\n",
              "      <th>8822</th>\n",
              "      <td>0.0</td>\n",
              "      <td>100.0</td>\n",
              "      <td>100.0</td>\n",
              "      <td>0.0</td>\n",
              "      <td>0.5588</td>\n",
              "      <td>1700.0</td>\n",
              "      <td>Alaga, The Original Cane Flavor Syrup, Cane</td>\n",
              "    </tr>\n",
              "    <tr>\n",
              "      <th>8823</th>\n",
              "      <td>0.0</td>\n",
              "      <td>100.0</td>\n",
              "      <td>100.0</td>\n",
              "      <td>0.0</td>\n",
              "      <td>0.5588</td>\n",
              "      <td>1700.0</td>\n",
              "      <td>The Original Cane Syrup</td>\n",
              "    </tr>\n",
              "    <tr>\n",
              "      <th>41157</th>\n",
              "      <td>0.0</td>\n",
              "      <td>100.0</td>\n",
              "      <td>100.0</td>\n",
              "      <td>0.0</td>\n",
              "      <td>0.3175</td>\n",
              "      <td>1700.0</td>\n",
              "      <td>Panela Brown Sugar Cane</td>\n",
              "    </tr>\n",
              "    <tr>\n",
              "      <th>41158</th>\n",
              "      <td>0.0</td>\n",
              "      <td>100.0</td>\n",
              "      <td>100.0</td>\n",
              "      <td>0.0</td>\n",
              "      <td>0.3175</td>\n",
              "      <td>1700.0</td>\n",
              "      <td>Panela Brown Sugar Cane</td>\n",
              "    </tr>\n",
              "    <tr>\n",
              "      <th>41159</th>\n",
              "      <td>0.0</td>\n",
              "      <td>100.0</td>\n",
              "      <td>100.0</td>\n",
              "      <td>0.0</td>\n",
              "      <td>0.3175</td>\n",
              "      <td>1700.0</td>\n",
              "      <td>Panela</td>\n",
              "    </tr>\n",
              "  </tbody>\n",
              "</table>\n",
              "</div>"
            ],
            "text/plain": [
              "       fat_100g  carbohydrates_100g  sugars_100g  proteins_100g  salt_100g  \\\n",
              "33151       0.0                 0.0        100.0            0.0    71.1200   \n",
              "24783       0.0               100.0        100.0            0.0    24.1300   \n",
              "4073        0.0               100.0        100.0            0.0     7.6200   \n",
              "10282       0.0               100.0        100.0            0.0     2.5400   \n",
              "17880       0.0               100.0        100.0            0.0     0.6350   \n",
              "8822        0.0               100.0        100.0            0.0     0.5588   \n",
              "8823        0.0               100.0        100.0            0.0     0.5588   \n",
              "41157       0.0               100.0        100.0            0.0     0.3175   \n",
              "41158       0.0               100.0        100.0            0.0     0.3175   \n",
              "41159       0.0               100.0        100.0            0.0     0.3175   \n",
              "\n",
              "       energy_100g                                      product  \n",
              "33151          0.0              Turkey Brine Kit, Garlic & Herb  \n",
              "24783       1700.0                                    Seasoning  \n",
              "4073        1700.0         Seasoning Rub, Sweet & Spicy Seafood  \n",
              "10282       1700.0                               Instant Pectin  \n",
              "17880       1700.0      Cranberry Cosmos Cocktail Rimming Sugar  \n",
              "8822        1700.0  Alaga, The Original Cane Flavor Syrup, Cane  \n",
              "8823        1700.0                      The Original Cane Syrup  \n",
              "41157       1700.0                      Panela Brown Sugar Cane  \n",
              "41158       1700.0                      Panela Brown Sugar Cane  \n",
              "41159       1700.0                                       Panela  "
            ]
          },
          "metadata": {
            "tags": []
          },
          "execution_count": 82
        }
      ]
    },
    {
      "metadata": {
        "id": "8UUHU9-6WmgM",
        "colab_type": "code",
        "colab": {}
      },
      "cell_type": "code",
      "source": [
        ""
      ],
      "execution_count": 0,
      "outputs": []
    }
  ]
}